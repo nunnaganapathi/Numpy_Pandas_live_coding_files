{
  "nbformat": 4,
  "nbformat_minor": 0,
  "metadata": {
    "colab": {
      "provenance": []
    },
    "kernelspec": {
      "name": "python3",
      "display_name": "Python 3"
    },
    "language_info": {
      "name": "python"
    }
  },
  "cells": [
    {
      "cell_type": "code",
      "execution_count": null,
      "metadata": {
        "colab": {
          "base_uri": "https://localhost:8080/"
        },
        "id": "c128_N2svLZy",
        "outputId": "f8879594-7f8b-4a08-d346-da7a4edcf4fd"
      },
      "outputs": [
        {
          "output_type": "stream",
          "name": "stdout",
          "text": [
            "Requirement already satisfied: numpy in /usr/local/lib/python3.11/dist-packages (1.26.4)\n"
          ]
        }
      ],
      "source": [
        "#Install Numpy\n",
        "!pip install numpy\n"
      ]
    },
    {
      "cell_type": "code",
      "source": [
        "#import Numpy\n",
        "import numpy as np\n"
      ],
      "metadata": {
        "id": "CWFUx-CQvdmk"
      },
      "execution_count": null,
      "outputs": []
    },
    {
      "cell_type": "code",
      "source": [
        "#Creating numpy Array\n",
        "arr = np.array([1,2,3,4,5])\n",
        "print('Array :\\n',arr)\n",
        "print('Shape:',arr.shape)\n",
        "print('Type:', type(arr))\n",
        "print('Datatype:',arr.dtype)\n",
        "print('Number of Dimensions:',arr.ndim)"
      ],
      "metadata": {
        "colab": {
          "base_uri": "https://localhost:8080/"
        },
        "id": "BuUQFyg0v8hf",
        "outputId": "6d2687b3-e242-494c-e0aa-1c76b780f3a6"
      },
      "execution_count": null,
      "outputs": [
        {
          "output_type": "stream",
          "name": "stdout",
          "text": [
            "Array :\n",
            " [1 2 3 4 5]\n",
            "Shape: (5,)\n",
            "Type: <class 'numpy.ndarray'>\n",
            "Datatype: int64\n",
            "Number of Dimensions: 1\n"
          ]
        }
      ]
    },
    {
      "cell_type": "code",
      "source": [
        "'''\n",
        "ndarray -> N-Dimensional Array\n",
        "'''"
      ],
      "metadata": {
        "colab": {
          "base_uri": "https://localhost:8080/",
          "height": 35
        },
        "id": "gGcXtocpxDro",
        "outputId": "f2eb070c-5bff-42d1-a6b9-11bfcd23b164"
      },
      "execution_count": null,
      "outputs": [
        {
          "output_type": "execute_result",
          "data": {
            "text/plain": [
              "'\\nndarray -> N-Dimensional Array\\n'"
            ],
            "application/vnd.google.colaboratory.intrinsic+json": {
              "type": "string"
            }
          },
          "metadata": {},
          "execution_count": 5
        }
      ]
    },
    {
      "cell_type": "code",
      "source": [
        "'''\n",
        "Numpy arrary\n",
        "'''"
      ],
      "metadata": {
        "id": "CDIR99wyxzxe",
        "colab": {
          "base_uri": "https://localhost:8080/",
          "height": 35
        },
        "outputId": "211b936e-df7b-4948-9647-31bac80660b5"
      },
      "execution_count": null,
      "outputs": [
        {
          "output_type": "execute_result",
          "data": {
            "text/plain": [
              "'\\nNumpy arrary\\n'"
            ],
            "application/vnd.google.colaboratory.intrinsic+json": {
              "type": "string"
            }
          },
          "metadata": {},
          "execution_count": 6
        }
      ]
    },
    {
      "cell_type": "code",
      "source": [
        "#size Comparision\n",
        "import sys\n",
        "\n",
        "# Declaring a list of 1000 elements\n",
        "\n",
        "S= range(1000)\n",
        "#Output\n",
        "print('size of each element of the list in bytes: ', sys.getsizeof(S))\n",
        "print('size of the whole list in bytes: ', sys.getsizeof(S)*len(S))\n",
        "#Declaring a numpy array of 1000 elements\n",
        "\n",
        "D=np.arange(1000)\n",
        "#output\n",
        "\n",
        "print('\\n size of each element fo the numpy array in the bytes :', D.itemsize)\n",
        "print('size of the whole numpy array in bytes: ', D.size * D.itemsize)\n"
      ],
      "metadata": {
        "colab": {
          "base_uri": "https://localhost:8080/"
        },
        "id": "M8ydKDovx10N",
        "outputId": "10c18b43-181d-48b9-8e0f-03c020d5fc23"
      },
      "execution_count": null,
      "outputs": [
        {
          "output_type": "stream",
          "name": "stdout",
          "text": [
            "size of each element of the list in bytes:  48\n",
            "size of the whole list in bytes:  48000\n",
            "\n",
            " size of each element fo the numpy array in the bytes : 8\n",
            "size of the whole numpy array in bytes:  8000\n"
          ]
        }
      ]
    },
    {
      "cell_type": "code",
      "source": [
        "#Numpy arrays are occupying 6 times less space than normal python arrays.\n",
        "#Default starting value is 0 and step is 1\n",
        "\n",
        "np.arange(10)"
      ],
      "metadata": {
        "colab": {
          "base_uri": "https://localhost:8080/"
        },
        "id": "pux6GP9nzuMy",
        "outputId": "3d78dfea-f781-4e62-e260-3f615a2f56dc"
      },
      "execution_count": null,
      "outputs": [
        {
          "output_type": "execute_result",
          "data": {
            "text/plain": [
              "array([0, 1, 2, 3, 4, 5, 6, 7, 8, 9])"
            ]
          },
          "metadata": {},
          "execution_count": 8
        }
      ]
    },
    {
      "cell_type": "code",
      "source": [
        "#np.arange(start,stop,step)\n",
        "np.arange(1,10,1)"
      ],
      "metadata": {
        "colab": {
          "base_uri": "https://localhost:8080/"
        },
        "id": "c-tg6SkR0On9",
        "outputId": "d2bf08d2-bfef-4d79-d615-2ed3e235d26e"
      },
      "execution_count": null,
      "outputs": [
        {
          "output_type": "execute_result",
          "data": {
            "text/plain": [
              "array([1, 2, 3, 4, 5, 6, 7, 8, 9])"
            ]
          },
          "metadata": {},
          "execution_count": 9
        }
      ]
    },
    {
      "cell_type": "code",
      "source": [
        "np.arange(1,10)"
      ],
      "metadata": {
        "colab": {
          "base_uri": "https://localhost:8080/"
        },
        "id": "8ZGkKVOB0yhh",
        "outputId": "14494155-4e86-48d1-d741-f83dbd4cc51a"
      },
      "execution_count": null,
      "outputs": [
        {
          "output_type": "execute_result",
          "data": {
            "text/plain": [
              "array([1, 2, 3, 4, 5, 6, 7, 8, 9])"
            ]
          },
          "metadata": {},
          "execution_count": 10
        }
      ]
    },
    {
      "cell_type": "code",
      "source": [
        "np.arange(start=4,stop=100,step=2)"
      ],
      "metadata": {
        "colab": {
          "base_uri": "https://localhost:8080/"
        },
        "id": "QlTk2QdK06Od",
        "outputId": "ebd7bc1a-39e2-47a1-95e0-3479b3824dda"
      },
      "execution_count": null,
      "outputs": [
        {
          "output_type": "execute_result",
          "data": {
            "text/plain": [
              "array([ 4,  6,  8, 10, 12, 14, 16, 18, 20, 22, 24, 26, 28, 30, 32, 34, 36,\n",
              "       38, 40, 42, 44, 46, 48, 50, 52, 54, 56, 58, 60, 62, 64, 66, 68, 70,\n",
              "       72, 74, 76, 78, 80, 82, 84, 86, 88, 90, 92, 94, 96, 98])"
            ]
          },
          "metadata": {},
          "execution_count": 11
        }
      ]
    },
    {
      "cell_type": "code",
      "source": [
        "#Performance Comparision\n",
        "#Import Time\n",
        "import time\n",
        "\n",
        "#size of array and lists\n",
        "size = 1000000\n",
        "\n",
        "#creating two lists\n",
        "list1 = range(size)\n",
        "list2 = range(size)\n",
        "\n",
        "#creating two numpy arrays\n",
        "array1 = np.arange(size)\n",
        "array2 = np.arange(size)\n",
        "\n",
        "#Capturing the time before multiplication\n",
        "initialTime=time.time()\n",
        "\n",
        "#Multipying the elements\n",
        "res=[(a*b) for a, b in zip (list1,list2)]\n",
        "\n",
        "#Capturing the time after the operation\n",
        "print('Time taken for multiplication: ',(time.time()-initialTime) * 1000 ,'ms')\n",
        "\n",
        "\n",
        "#Capturing the time before the operations.\n",
        "initialTime=time.time()\n",
        "#Multiplying the array.\n",
        "res=array1 * array2\n",
        "#Capturing the time after the operation\n",
        "print('\\nTime taken by numpy array: ',(time.time()-initialTime) * 1000 ,'ms')"
      ],
      "metadata": {
        "colab": {
          "base_uri": "https://localhost:8080/"
        },
        "id": "FxyunLro1032",
        "outputId": "89cb4b44-1e2b-47b7-e85a-1c06d90c07e4"
      },
      "execution_count": null,
      "outputs": [
        {
          "output_type": "stream",
          "name": "stdout",
          "text": [
            "Time taken for multiplication:  86.06791496276855 ms\n",
            "\n",
            "Time taken by numpy array:  15.543937683105469 ms\n"
          ]
        }
      ]
    },
    {
      "cell_type": "code",
      "source": [
        "#Numpy arrays are homogeneous\n",
        "\n",
        "arr=np.array([1,2.0,'Numpy'])\n",
        "print('Array:',arr)\n",
        "print('Data Type:',arr.dtype)"
      ],
      "metadata": {
        "colab": {
          "base_uri": "https://localhost:8080/"
        },
        "id": "XWSey0Pt6TdG",
        "outputId": "21891b9b-5399-410d-f84d-82d7976be49e"
      },
      "execution_count": null,
      "outputs": [
        {
          "output_type": "stream",
          "name": "stdout",
          "text": [
            "Array: ['1' '2.0' 'Numpy']\n",
            "Data Type: <U32\n"
          ]
        }
      ]
    },
    {
      "cell_type": "code",
      "source": [
        "#Numpy arrays are homogeneous\n",
        "\n",
        "arr=np.array([1,2.0,5.7])\n",
        "print('Array:',arr)\n",
        "print('Data Type:',arr.dtype)"
      ],
      "metadata": {
        "colab": {
          "base_uri": "https://localhost:8080/"
        },
        "id": "g7RIT_Zs69uI",
        "outputId": "6422b9a0-ab4a-42fe-fa45-24c463902e52"
      },
      "execution_count": null,
      "outputs": [
        {
          "output_type": "stream",
          "name": "stdout",
          "text": [
            "Array: [1.  2.  5.7]\n",
            "Data Type: float64\n"
          ]
        }
      ]
    },
    {
      "cell_type": "code",
      "source": [
        "#Random Module in Numpy\n",
        "\n",
        "np.random.rand(3,4)"
      ],
      "metadata": {
        "colab": {
          "base_uri": "https://localhost:8080/"
        },
        "id": "DbllX0nB8Z7W",
        "outputId": "0cba8dd9-9d01-40bc-ae6b-503502e79f41"
      },
      "execution_count": null,
      "outputs": [
        {
          "output_type": "execute_result",
          "data": {
            "text/plain": [
              "array([[0.50500035, 0.7015863 , 0.88395286, 0.00619061],\n",
              "       [0.37471489, 0.5662307 , 0.2054104 , 0.47495448],\n",
              "       [0.31488724, 0.37836423, 0.65043542, 0.78383242]])"
            ]
          },
          "metadata": {},
          "execution_count": 15
        }
      ]
    },
    {
      "cell_type": "code",
      "source": [
        "#np.random.randn() -> used to create an array of random values\n",
        "#with mean=0 and standard deviation =1\n",
        "np.random.randn(2,5)\n"
      ],
      "metadata": {
        "colab": {
          "base_uri": "https://localhost:8080/"
        },
        "id": "WuZIlFpY8lSL",
        "outputId": "fd044962-6b8a-4abf-e3bc-2d8d1c902139"
      },
      "execution_count": null,
      "outputs": [
        {
          "output_type": "execute_result",
          "data": {
            "text/plain": [
              "array([[ 0.04293554,  0.28763066, -0.04631163,  0.04798008,  0.30453133],\n",
              "       [ 1.19258764, -0.09103571,  0.0827043 ,  1.21522809, -0.58108752]])"
            ]
          },
          "metadata": {},
          "execution_count": 16
        }
      ]
    },
    {
      "cell_type": "code",
      "source": [
        "#np.random.randint (low,high,size)\n",
        "np.random.randint(1,100,10)"
      ],
      "metadata": {
        "colab": {
          "base_uri": "https://localhost:8080/"
        },
        "id": "5irGTjda9FN-",
        "outputId": "0f9c0314-3ab3-48e7-c5ff-f0b7055fcb79"
      },
      "execution_count": null,
      "outputs": [
        {
          "output_type": "execute_result",
          "data": {
            "text/plain": [
              "array([36, 60,  5, 11, 60, 37,  6, 58,  7,  5])"
            ]
          },
          "metadata": {},
          "execution_count": 17
        }
      ]
    },
    {
      "cell_type": "code",
      "source": [
        "#np.random.randint (low,high,size)\n",
        "np.random.randint(1,100,(3,5))"
      ],
      "metadata": {
        "colab": {
          "base_uri": "https://localhost:8080/"
        },
        "id": "AkDc-HB79TUD",
        "outputId": "56f8c2fb-60f9-42b2-d5e3-85a48ae8ccdf"
      },
      "execution_count": null,
      "outputs": [
        {
          "output_type": "execute_result",
          "data": {
            "text/plain": [
              "array([[74, 40, 95, 95, 80],\n",
              "       [62, 28, 31, 63,  3],\n",
              "       [96, 26, 57, 47, 87]])"
            ]
          },
          "metadata": {},
          "execution_count": 18
        }
      ]
    },
    {
      "cell_type": "code",
      "source": [
        "#High value is not included\n",
        "\n"
      ],
      "metadata": {
        "id": "6Mm_PKqJ9ZpX"
      },
      "execution_count": null,
      "outputs": []
    },
    {
      "cell_type": "code",
      "source": [
        "a=np.random.randint(1,100,(5,7))\n",
        "print(a)"
      ],
      "metadata": {
        "colab": {
          "base_uri": "https://localhost:8080/"
        },
        "id": "pJPQf2WBlHbG",
        "outputId": "53bd80d4-dc59-432a-ca40-4ab75e2c9e95"
      },
      "execution_count": null,
      "outputs": [
        {
          "output_type": "stream",
          "name": "stdout",
          "text": [
            "[[97 18  4 69  1 68 14]\n",
            " [84 74 56  8 95 83 83]\n",
            " [65 52 65  5 81 61 41]\n",
            " [50 86 15 56 82 46 12]\n",
            " [40 31 12 84 27 26 72]]\n"
          ]
        }
      ]
    },
    {
      "cell_type": "code",
      "source": [
        "#Accessing the elements by index\n",
        "print(a[2,3])"
      ],
      "metadata": {
        "colab": {
          "base_uri": "https://localhost:8080/"
        },
        "id": "k1nhxXUQkLR0",
        "outputId": "3af07842-dcb2-437f-b7e5-24a2de482abb"
      },
      "execution_count": null,
      "outputs": [
        {
          "output_type": "stream",
          "name": "stdout",
          "text": [
            "5\n"
          ]
        }
      ]
    },
    {
      "cell_type": "code",
      "source": [
        "#Slicing along a single dimension\n",
        "\n",
        "print(a[1:])"
      ],
      "metadata": {
        "colab": {
          "base_uri": "https://localhost:8080/"
        },
        "id": "zvyMMmB1l8Ne",
        "outputId": "81843295-f603-4674-c1c6-daf91c75bcb4"
      },
      "execution_count": null,
      "outputs": [
        {
          "output_type": "stream",
          "name": "stdout",
          "text": [
            "[[84 74 56  8 95 83 83]\n",
            " [65 52 65  5 81 61 41]\n",
            " [50 86 15 56 82 46 12]\n",
            " [40 31 12 84 27 26 72]]\n"
          ]
        }
      ]
    },
    {
      "cell_type": "code",
      "source": [
        "#Slicing along both dimensions.\n",
        "\n",
        "print(a[1:,2:])"
      ],
      "metadata": {
        "colab": {
          "base_uri": "https://localhost:8080/"
        },
        "id": "3cTTC1-7mJlW",
        "outputId": "932136e8-c24b-4318-8d45-eab640174648"
      },
      "execution_count": null,
      "outputs": [
        {
          "output_type": "stream",
          "name": "stdout",
          "text": [
            "[[56  8 95 83 83]\n",
            " [65  5 81 61 41]\n",
            " [15 56 82 46 12]\n",
            " [12 84 27 26 72]]\n"
          ]
        }
      ]
    },
    {
      "cell_type": "code",
      "source": [
        "print(a[1:3,2:4])"
      ],
      "metadata": {
        "colab": {
          "base_uri": "https://localhost:8080/"
        },
        "id": "_jDSZBnymutB",
        "outputId": "2027a728-b2f0-453e-d981-ab00e4fb40b9"
      },
      "execution_count": null,
      "outputs": [
        {
          "output_type": "stream",
          "name": "stdout",
          "text": [
            "[[56  8]\n",
            " [65  5]]\n"
          ]
        }
      ]
    }
  ]
}